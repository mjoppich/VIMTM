{
 "cells": [
  {
   "cell_type": "code",
   "execution_count": 21,
   "metadata": {},
   "outputs": [],
   "source": [
    "import pandas as pd\n",
    "from docx import Document\n",
    "import regex"
   ]
  },
  {
   "cell_type": "code",
   "execution_count": 1,
   "metadata": {},
   "outputs": [
    {
     "ename": "NameError",
     "evalue": "name 'Document' is not defined",
     "output_type": "error",
     "traceback": [
      "\u001b[0;31m---------------------------------------------------------------------------\u001b[0m",
      "\u001b[0;31mNameError\u001b[0m                                 Traceback (most recent call last)",
      "\u001b[0;32m<ipython-input-1-db4e720554db>\u001b[0m in \u001b[0;36m<module>\u001b[0;34m\u001b[0m\n\u001b[0;32m----> 1\u001b[0;31m \u001b[0mdocument\u001b[0m \u001b[0;34m=\u001b[0m \u001b[0mDocument\u001b[0m\u001b[0;34m(\u001b[0m\u001b[0;34m\"PMC8078050/PMC8078050_mmc1.docx\"\u001b[0m\u001b[0;34m)\u001b[0m\u001b[0;34m\u001b[0m\u001b[0;34m\u001b[0m\u001b[0m\n\u001b[0m",
      "\u001b[0;31mNameError\u001b[0m: name 'Document' is not defined"
     ]
    }
   ],
   "source": [
    "document = Document(\"PMC8078050/PMC8078050_mmc1.docx\")"
   ]
  },
  {
   "cell_type": "code",
   "execution_count": 26,
   "metadata": {},
   "outputs": [
    {
     "data": {
      "text/plain": [
       "[<docx.table.Table at 0x7f30e5b5bd30>,\n",
       " <docx.table.Table at 0x7f30e5b5bb70>,\n",
       " <docx.table.Table at 0x7f30e5b5b978>]"
      ]
     },
     "execution_count": 26,
     "metadata": {},
     "output_type": "execute_result"
    }
   ],
   "source": [
    "document.tables"
   ]
  },
  {
   "cell_type": "code",
   "execution_count": 27,
   "metadata": {},
   "outputs": [
    {
     "name": "stdout",
     "output_type": "stream",
     "text": [
      "                                                    0                   1  \\\n",
      "0                           Predicted miRNA sequences       Name of miRNA   \n",
      "1   Query  7   GGTGCCTGGAATATT  21\\n           |||...  SARS-CoV-2-miR-005   \n",
      "2   Query  5    TGGCTTTGTGTGCTGAC  21\\n           ...  SARS-CoV-2-miR-007   \n",
      "3   Query  2    AATAACAGTTACAC  15\\n            ||...  SARS-CoV-2-miR-027   \n",
      "4   Query  2   TGCAAAAGTATTCTAC  17\\n           ||...  SARS-CoV-2-miR-029   \n",
      "5   Query  1   CAAAGTTTTTATGACAGCATCT  22\\n       ...  SARS-CoV-2-miR-055   \n",
      "6   Query  1   CAAAGTTTTTATGACAGCATCT  22\\n       ...  SARS-CoV-2-miR-055   \n",
      "7   Query  1   GTTGGCACTTTTCTCAAAGCTT  22\\n       ...  SARS-CoV-2-miR-058   \n",
      "8   Query  1   TCTTAAAAGAGGGTG  15\\n           |||...  SARS-CoV-2-miR-060   \n",
      "9   Query  5    TTTTCTAAAACCACT  19\\n            |...  SARS-CoV-2-miR-063   \n",
      "10  Query  5   TGCTTTTCCATCATGA  20\\n           ||...  SARS-CoV-2-miR-077   \n",
      "11  Query  1   TTGTTGTTGGCCTTTACCAGAC  22\\n       ...  SARS-CoV-2-miR-084   \n",
      "\n",
      "              2        3           4                          5  \n",
      "0   Query Cover  E value  Per. Ident  SRX7990866\\nSequence ID\\n  \n",
      "1           68%      7.7     100.00%                             \n",
      "2           77%     0.49     100.00%  SRA:SRR11412215.1792342.1  \n",
      "3           63%       30     100.00%                             \n",
      "4           72%      1.9     100.00%                             \n",
      "5          100%    4e-04     100.00%                             \n",
      "6          100%    4e-04     100.00%                             \n",
      "7          100%    4e-04     100.00%                             \n",
      "8           68%      7.7     100.00%                             \n",
      "9           68%      7.7     100.00%                             \n",
      "10          72%      1.9     100.00%                             \n",
      "11         100%    5e-04     100.00%                             \n",
      "                                                    0                   1  \\\n",
      "0                           Predicted miRNA sequences       Name of miRNA   \n",
      "1   Query  1    AAAAAAGGTGCCTGGAATATTG  22\\n      ...  SARS-CoV-2-miR-005   \n",
      "2   Query  1    TTTTTGGCTTTGTGTGCTGACT  22\\n      ...  SARS-CoV-2-miR-007   \n",
      "3   Query  1    CAATAACAGTTACACCGGAAGC  22\\n      ...  SARS-CoV-2-miR-027   \n",
      "4   Query  1    ATGCAAAAGTATTCTACACTCC  22\\n      ...  SARS-CoV-2-miR-029   \n",
      "5   Query  1   CAAAGTTTTTATGACAGCATCT  22\\n       ...  SARS-CoV-2-miR-055   \n",
      "6   Query  1   GTTGGCACTTTTCTCAAAGCTT  22\\n       ...  SARS-CoV-2-miR-058   \n",
      "7   Query  1   TCTTAAAAGAGGGTGTGTAGTG  22\\n       ...  SARS-CoV-2-miR-060   \n",
      "8   Query  1   CCATTTTTCTAAAACCACTCTG  22\\n       ...  SARS-CoV-2-miR-063   \n",
      "9   Query  1    AGTGTGCTTTTCCATCATGACA  22\\n      ...  SARS-CoV-2-miR-077   \n",
      "10  Query  1   TTGTTGTTGGCCTTTACCAGAC  22\\n       ...  SARS-CoV-2-miR-084   \n",
      "\n",
      "              2        3           4                        5  \n",
      "0   Query Cover  E value  Per. Ident  SRX7990875\\nSequence ID  \n",
      "1          100%    0.001     100.00%                       \\n  \n",
      "2          100%    9e-04     100.00%                           \n",
      "3          100%    0.001     100.00%                           \n",
      "4          100%    9e-04     100.00%                           \n",
      "5          100%    6e-04     100.00%                           \n",
      "6          100%    9e-04     100.00%                           \n",
      "7          100%    0.001     100.00%                           \n",
      "8          100%    0.001     100.00%                           \n",
      "9          100%    0.001     100.00%                           \n",
      "10         100%    4e-04     100.00%                           \n",
      "                                                    0                   1  \\\n",
      "0                           Predicted miRNA sequences       Name of miRNA   \n",
      "1   Query  1    AAAAAAGGTGCCTGGAATATTG  22\\n      ...  SARS-CoV-2-miR-005   \n",
      "2   Query  1   TTTTTGGCTTTGTGTGCTGACT  22\\n       ...  SARS-CoV-2-miR-007   \n",
      "3   Query  1   CAATAACAGTTACACCGGAAGC  22\\n       ...  SARS-CoV-2-miR-027   \n",
      "4   Query  1   ATGCAAAAGTATTCTACACTCC  22\\n       ...  SARS-CoV-2-miR-029   \n",
      "5   Query  1    CAAAGTTTTTATGACAGCATCT  22\\n      ...  SARS-CoV-2-miR-055   \n",
      "6   Query  1   GTTGGCACTTTTCTCAAAGCTT  22\\n       ...  SARS-CoV-2-miR-058   \n",
      "7   Query  1    TCTTAAAAGAGGGTGTGTAGTG  22\\n      ...  SARS-CoV-2-miR-060   \n",
      "8   Query  1   CCATTTTTCTAAAACCACTCTG  22\\n       ...  SARS-CoV-2-miR-063   \n",
      "9   Query  1   AGTGTGCTTTTCCATCATGACA  22\\n       ...  SARS-CoV-2-miR-077   \n",
      "10  Query  1   TTGTTGTTGGCCTTTACCAGAC  22\\n       ...  SARS-CoV-2-miR-084   \n",
      "\n",
      "              2        3              4              5  \n",
      "0   Query Cover  E-value  Per. Identity  \\nSequence ID  \n",
      "1          100%    7e-04        100.00%                 \n",
      "2          100%    7e-04        100.00%                 \n",
      "3          100%    7e-04        100.00%             \\n  \n",
      "4          100%    7e-04        100.00%             \\n  \n",
      "5          100%    7e-04        100.00%             \\n  \n",
      "6          100%    7e-04        100.00%             \\n  \n",
      "7          100%    7e-04        100.00%             \\n  \n",
      "8          100%    7e-04        100.00%             \\n  \n",
      "9          100%    7e-04        100.00%             \\n  \n",
      "10         100%    7e-04        100.00%             \\n  \n"
     ]
    }
   ],
   "source": [
    "for table in document.tables:\n",
    "    data = [[cell.text for cell in row.cells] for row in table.rows]\n",
    "    df = pd.DataFrame(data)\n",
    "    print(df)"
   ]
  },
  {
   "cell_type": "code",
   "execution_count": 45,
   "metadata": {},
   "outputs": [],
   "source": [
    "\n",
    "def getNameSeqColumns(df):\n",
    "\n",
    "    potentialColumns = list(df.loc[0,])\n",
    "    potentialColumns = [x.strip() for x in potentialColumns]\n",
    "    #print(potentialColumns)\n",
    "    \n",
    "    mirName = None\n",
    "    mirSeq = None\n",
    "\n",
    "    for xi, x in enumerate(potentialColumns):\n",
    "        if \"NAME\" in x.upper() and mirName is None:\n",
    "            mirName = xi\n",
    "\n",
    "        elif \"MIRNA SEQUENCE\" in x.upper() and mirSeq is None:\n",
    "            mirSeq = xi\n",
    "\n",
    "    #print(\"Name:\", mirName, potentialColumns[mirName])\n",
    "    #print(\"Seq: \", mirSeq, potentialColumns[mirSeq])\n",
    "\n",
    "    return mirName, mirSeq"
   ]
  },
  {
   "cell_type": "code",
   "execution_count": 30,
   "metadata": {},
   "outputs": [],
   "source": [
    "def is_empty(elem):\n",
    "    if elem is None:\n",
    "        return True\n",
    "\n",
    "    if len(str(elem)) == 0:\n",
    "        return True\n",
    "\n",
    "    return False"
   ]
  },
  {
   "cell_type": "code",
   "execution_count": 32,
   "metadata": {},
   "outputs": [
    {
     "data": {
      "text/plain": [
       "[<docx.table.Table at 0x7f30e5e75588>,\n",
       " <docx.table.Table at 0x7f30e5e75470>,\n",
       " <docx.table.Table at 0x7f30e5e75780>]"
      ]
     },
     "execution_count": 32,
     "metadata": {},
     "output_type": "execute_result"
    }
   ],
   "source": [
    "document.tables"
   ]
  },
  {
   "cell_type": "code",
   "execution_count": 46,
   "metadata": {},
   "outputs": [],
   "source": [
    "fastaSequenceMirRE = regex.compile(r'^[ATCGU]{15,30}$')\n",
    "\n",
    "for table in document.tables:\n",
    "    data = [[cell.text for cell in row.cells] for row in table.rows]\n",
    "    df = pd.DataFrame(data)\n",
    "\n",
    "    mirName, mirSeq = getNameSeqColumns(df)\n",
    "    \n",
    "    if mirName == None or mirSeq == None:\n",
    "        print(\"Skipping\")\n",
    "        break\n",
    "\n",
    "    for ri, row in df.iterrows():\n",
    "\n",
    "        if not is_empty(row[mirName]) and not is_empty(row[mirSeq]):\n",
    "\n",
    "            fastaSequenceMir = fastaSequenceMirRE.match(str(row[mirSeq]))\n",
    "\n",
    "            if fastaSequenceMir:\n",
    "                print(row[mirName], row[mirSeq])"
   ]
  }
 ],
 "metadata": {
  "kernelspec": {
   "display_name": "Python 3.6.15 64-bit",
   "language": "python",
   "name": "python3"
  },
  "language_info": {
   "codemirror_mode": {
    "name": "ipython",
    "version": 3
   },
   "file_extension": ".py",
   "mimetype": "text/x-python",
   "name": "python",
   "nbconvert_exporter": "python",
   "pygments_lexer": "ipython3",
   "version": "3.6.15"
  },
  "orig_nbformat": 4,
  "vscode": {
   "interpreter": {
    "hash": "31f2aee4e71d21fbe5cf8b01ff0e069b9275f58929596ceb00d14d90e3e16cd6"
   }
  }
 },
 "nbformat": 4,
 "nbformat_minor": 2
}
