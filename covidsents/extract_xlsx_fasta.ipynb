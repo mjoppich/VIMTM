{
 "cells": [
  {
   "cell_type": "code",
   "execution_count": 11,
   "metadata": {},
   "outputs": [],
   "source": [
    "import pandas as pd\n",
    "import os\n",
    "import regex as re"
   ]
  },
  {
   "cell_type": "code",
   "execution_count": 12,
   "metadata": {},
   "outputs": [
    {
     "data": {
      "text/plain": [
       "'/mnt/raidinput2/tmp/joppich/pubmed_pmc/pmc/vimtm/covidsents'"
      ]
     },
     "execution_count": 12,
     "metadata": {},
     "output_type": "execute_result"
    }
   ],
   "source": [
    "os.getcwd()"
   ]
  },
  {
   "cell_type": "code",
   "execution_count": 13,
   "metadata": {},
   "outputs": [
    {
     "name": "stdout",
     "output_type": "stream",
     "text": [
      "['Vmir outputs', 'Maturebayes inputs', 'Maturebays_outputs', 'mature mirnas (5 prime)', 'miRNAs fasta format']\n"
     ]
    }
   ],
   "source": [
    "sheetsDF = pd.read_excel(\"PMC8078050/PMC8078050_mmc5.xlsx\", header=None, sheet_name=None)\n",
    "print([x for x in sheetsDF])"
   ]
  },
  {
   "cell_type": "code",
   "execution_count": 14,
   "metadata": {},
   "outputs": [
    {
     "data": {
      "text/html": [
       "<div>\n",
       "<style scoped>\n",
       "    .dataframe tbody tr th:only-of-type {\n",
       "        vertical-align: middle;\n",
       "    }\n",
       "\n",
       "    .dataframe tbody tr th {\n",
       "        vertical-align: top;\n",
       "    }\n",
       "\n",
       "    .dataframe thead th {\n",
       "        text-align: right;\n",
       "    }\n",
       "</style>\n",
       "<table border=\"1\" class=\"dataframe\">\n",
       "  <thead>\n",
       "    <tr style=\"text-align: right;\">\n",
       "      <th></th>\n",
       "      <th>0</th>\n",
       "    </tr>\n",
       "  </thead>\n",
       "  <tbody>\n",
       "    <tr>\n",
       "      <th>0</th>\n",
       "      <td>&gt;SARS-CoV-miR001</td>\n",
       "    </tr>\n",
       "    <tr>\n",
       "      <th>1</th>\n",
       "      <td>CGTGCTAGTGCGTGGCTTCGGG</td>\n",
       "    </tr>\n",
       "    <tr>\n",
       "      <th>2</th>\n",
       "      <td>&gt;SARS-CoV-miR002</td>\n",
       "    </tr>\n",
       "    <tr>\n",
       "      <th>3</th>\n",
       "      <td>TAAAGTCTTATGACTTAGGTGA</td>\n",
       "    </tr>\n",
       "    <tr>\n",
       "      <th>4</th>\n",
       "      <td>&gt;SARS-CoV-miR003</td>\n",
       "    </tr>\n",
       "    <tr>\n",
       "      <th>...</th>\n",
       "      <td>...</td>\n",
       "    </tr>\n",
       "    <tr>\n",
       "      <th>269</th>\n",
       "      <td>TTTTGGCAATGTTGTTCCTTGA</td>\n",
       "    </tr>\n",
       "    <tr>\n",
       "      <th>270</th>\n",
       "      <td>&gt;SARS-CoV-miR136</td>\n",
       "    </tr>\n",
       "    <tr>\n",
       "      <th>271</th>\n",
       "      <td>AGAGTAGACTATGTATCGTAAA</td>\n",
       "    </tr>\n",
       "    <tr>\n",
       "      <th>272</th>\n",
       "      <td>&gt;SARS-CoV-miR137</td>\n",
       "    </tr>\n",
       "    <tr>\n",
       "      <th>273</th>\n",
       "      <td>CGTGGCCTCGATGAAAATGTGG</td>\n",
       "    </tr>\n",
       "  </tbody>\n",
       "</table>\n",
       "<p>274 rows × 1 columns</p>\n",
       "</div>"
      ],
      "text/plain": [
       "                          0\n",
       "0         >SARS-CoV-miR001 \n",
       "1    CGTGCTAGTGCGTGGCTTCGGG\n",
       "2         >SARS-CoV-miR002 \n",
       "3    TAAAGTCTTATGACTTAGGTGA\n",
       "4         >SARS-CoV-miR003 \n",
       "..                      ...\n",
       "269  TTTTGGCAATGTTGTTCCTTGA\n",
       "270       >SARS-CoV-miR136 \n",
       "271  AGAGTAGACTATGTATCGTAAA\n",
       "272       >SARS-CoV-miR137 \n",
       "273  CGTGGCCTCGATGAAAATGTGG\n",
       "\n",
       "[274 rows x 1 columns]"
      ]
     },
     "execution_count": 14,
     "metadata": {},
     "output_type": "execute_result"
    }
   ],
   "source": [
    "df = sheetsDF['miRNAs fasta format']\n",
    "df"
   ]
  },
  {
   "cell_type": "code",
   "execution_count": 15,
   "metadata": {},
   "outputs": [
    {
     "name": "stdout",
     "output_type": "stream",
     "text": [
      "miRNAs fasta format 0 ['start', 'seq', 'start', 'seq', 'start', 'seq', 'start', 'seq', 'start', 'seq', 'start', 'seq', 'start', 'seq', 'start', 'seq', 'start', 'seq', 'start', 'seq', 'start', 'seq']\n",
      "miRNAs fasta format 0 21\n"
     ]
    }
   ],
   "source": [
    "fastaStartRE = re.compile(r'^>\\S\\S\\S\\S+')\n",
    "fastaSequenceMirRE = re.compile(r'^[ATCGU]{15,30}$')\n",
    "\n",
    "for sheet in sheetsDF:\n",
    "\n",
    "    df = sheetsDF[sheet]\n",
    "\n",
    "    for column in df.columns:\n",
    "\n",
    "        bestRowSequence = None\n",
    "        rowSequence = []\n",
    "        \n",
    "        for rowIdx, row in df.iterrows():\n",
    "\n",
    "            fastaStart = fastaStartRE.match(str(row[column]))\n",
    "            fastaSequenceMir = fastaSequenceMirRE.match(str(row[column]))\n",
    "\n",
    "            if fastaStart:\n",
    "                #print(rowIdx, \"fasta start\")\n",
    "                rowSequence.append(\"start\")\n",
    "            if fastaSequenceMir:\n",
    "                #print(rowIdx, \"fasta seq\")\n",
    "                rowSequence.append(\"seq\")\n",
    "\n",
    "            if not fastaStart and not fastaSequenceMir:\n",
    "                if len(rowSequence) > 0 and (bestRowSequence == None or len(bestRowSequence) > len(rowSequence)):\n",
    "                    bestRowSequence = rowSequence\n",
    "\n",
    "            if rowIdx > 20:\n",
    "                break\n",
    "        if len(rowSequence) > 0 and (bestRowSequence == None or len(bestRowSequence) > len(rowSequence)):\n",
    "            bestRowSequence = rowSequence\n",
    "\n",
    "        if not bestRowSequence is None:\n",
    "\n",
    "            count = 0\n",
    "            bestCount = 0\n",
    "            for i in range(1, len(bestRowSequence)):\n",
    "\n",
    "                if bestRowSequence[i-1] != bestRowSequence[i]:\n",
    "                    count += 1\n",
    "\n",
    "                else:\n",
    "                    if count > bestCount:\n",
    "                        bestCount = count\n",
    "\n",
    "            if count > bestCount:\n",
    "                        bestCount = count\n",
    "\n",
    "            if bestCount > 0:\n",
    "                print(sheet, column, bestRowSequence)\n",
    "                print(sheet, column, bestCount)"
   ]
  },
  {
   "cell_type": "code",
   "execution_count": 16,
   "metadata": {},
   "outputs": [
    {
     "data": {
      "text/plain": [
       "86"
      ]
     },
     "execution_count": 16,
     "metadata": {},
     "output_type": "execute_result"
    }
   ],
   "source": [
    "len(\"ATTATCAAGGTCTCCCTCTGGAATTTGGTGCCTCAGCTGAAACAGTTCGAGTTGAGGAAGAAGAAGAGGAAGACTGGCTGGATGAT\")"
   ]
  },
  {
   "cell_type": "code",
   "execution_count": null,
   "metadata": {},
   "outputs": [],
   "source": []
  }
 ],
 "metadata": {
  "kernelspec": {
   "display_name": "Python 3.6.15 64-bit",
   "language": "python",
   "name": "python3"
  },
  "language_info": {
   "codemirror_mode": {
    "name": "ipython",
    "version": 3
   },
   "file_extension": ".py",
   "mimetype": "text/x-python",
   "name": "python",
   "nbconvert_exporter": "python",
   "pygments_lexer": "ipython3",
   "version": "3.6.15"
  },
  "orig_nbformat": 4,
  "vscode": {
   "interpreter": {
    "hash": "31f2aee4e71d21fbe5cf8b01ff0e069b9275f58929596ceb00d14d90e3e16cd6"
   }
  }
 },
 "nbformat": 4,
 "nbformat_minor": 2
}
